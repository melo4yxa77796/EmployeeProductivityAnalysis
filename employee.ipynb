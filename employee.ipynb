{
 "cells": [
  {
   "cell_type": "code",
   "execution_count": 2,
   "id": "3ed14b5f",
   "metadata": {},
   "outputs": [
    {
     "name": "stdout",
     "output_type": "stream",
     "text": [
      "Missing Values:\n",
      "Employee_ID                    0\n",
      "Department                     0\n",
      "Gender                         0\n",
      "Age                            0\n",
      "Job_Title                      0\n",
      "Hire_Date                      0\n",
      "Years_At_Company               0\n",
      "Education_Level                0\n",
      "Performance_Score              0\n",
      "Monthly_Salary                 0\n",
      "Work_Hours_Per_Week            0\n",
      "Projects_Handled               0\n",
      "Overtime_Hours                 0\n",
      "Sick_Days                      0\n",
      "Remote_Work_Frequency          0\n",
      "Team_Size                      0\n",
      "Training_Hours                 0\n",
      "Promotions                     0\n",
      "Employee_Satisfaction_Score    0\n",
      "Resigned                       0\n",
      "dtype: int64\n",
      "\n",
      "Total Missing Values: 0\n"
     ]
    }
   ],
   "source": [
    "import pandas as pd\n",
    "\n",
    "\n",
    "df = pd.read_csv('Extended_Employee_Performance_and_Productivity_Data.csv')\n",
    "\n",
    "\n",
    "missing_values = df.isnull().sum()\n",
    "\n",
    "\n",
    "total_missing = missing_values.sum()\n",
    "\n",
    "\n",
    "print(\"Missing Values:\")\n",
    "print(missing_values)\n",
    "print(\"\\nTotal Missing Values:\", total_missing)\n",
    "\n"
   ]
  },
  {
   "cell_type": "code",
   "execution_count": 2,
   "id": "e52d0c37-f2a6-4f03-9375-2e0dc5f78376",
   "metadata": {},
   "outputs": [
    {
     "name": "stdout",
     "output_type": "stream",
     "text": [
      "no negative values found in numeric columns.\n"
     ]
    }
   ],
   "source": [
    "numeric_columns = df.select_dtypes(include=['int64', 'float64']).columns\n",
    "\n",
    "negative_values = (df[numeric_columns] < 0).sum()\n",
    "\n",
    "negative_values = negative_values[negative_values > 0]\n",
    "\n",
    "\n",
    "if negative_values.empty:\n",
    "    print(\"no negative values found in numeric columns.\")\n",
    "else:\n",
    "    print(\"Negative Values:\")\n",
    "    # Display the columns with negative values\n",
    "    print(\"Columns with negative values:\")\n",
    "    print(negative_values)\n",
    "\n",
    "\n",
    "\n"
   ]
  },
  {
   "cell_type": "code",
   "execution_count": 5,
   "id": "cdf72feb",
   "metadata": {},
   "outputs": [
    {
     "name": "stdout",
     "output_type": "stream",
     "text": [
      "Number of duplicate rows: 0\n"
     ]
    }
   ],
   "source": [
    "duplicates = df.duplicated().sum()\n",
    "print(f\"Number of duplicate rows: {duplicates}\")"
   ]
  },
  {
   "cell_type": "code",
   "execution_count": 6,
   "id": "07d11e80",
   "metadata": {},
   "outputs": [
    {
     "name": "stdout",
     "output_type": "stream",
     "text": [
      "Employee_ID                      int64\n",
      "Department                      object\n",
      "Gender                          object\n",
      "Age                              int64\n",
      "Job_Title                       object\n",
      "Hire_Date                       object\n",
      "Years_At_Company                 int64\n",
      "Education_Level                 object\n",
      "Performance_Score                int64\n",
      "Monthly_Salary                 float64\n",
      "Work_Hours_Per_Week              int64\n",
      "Projects_Handled                 int64\n",
      "Overtime_Hours                   int64\n",
      "Sick_Days                        int64\n",
      "Remote_Work_Frequency            int64\n",
      "Team_Size                        int64\n",
      "Training_Hours                   int64\n",
      "Promotions                       int64\n",
      "Employee_Satisfaction_Score    float64\n",
      "Resigned                          bool\n",
      "dtype: object\n"
     ]
    }
   ],
   "source": [
    "print(df.dtypes)"
   ]
  },
  {
   "cell_type": "code",
   "execution_count": 7,
   "id": "9cc03ef8",
   "metadata": {},
   "outputs": [],
   "source": [
    "df['Hire_Date'] = pd.to_datetime(df['Hire_Date'], errors='coerce')\n"
   ]
  },
  {
   "cell_type": "code",
   "execution_count": 6,
   "id": "6e84d53f",
   "metadata": {},
   "outputs": [
    {
     "name": "stdout",
     "output_type": "stream",
     "text": [
      "Minimum age: 22\n",
      "Maximum age: 60\n"
     ]
    }
   ],
   "source": [
    "min_age = df['Age'].min()\n",
    "max_age = df['Age'].max()\n",
    "\n",
    "print(f\"Minimum age: {min_age}\")\n",
    "print(f\"Maximum age: {max_age}\")\n"
   ]
  },
  {
   "cell_type": "code",
   "execution_count": 7,
   "id": "806c53b3",
   "metadata": {},
   "outputs": [
    {
     "name": "stdout",
     "output_type": "stream",
     "text": [
      "count    100000.000000\n",
      "mean         41.029410\n",
      "std          11.244121\n",
      "min          22.000000\n",
      "25%          31.000000\n",
      "50%          41.000000\n",
      "75%          51.000000\n",
      "max          60.000000\n",
      "Name: Age, dtype: float64\n"
     ]
    }
   ],
   "source": [
    "print(df[\"Age\"].describe())\n",
    "\n"
   ]
  },
  {
   "cell_type": "code",
   "execution_count": 10,
   "id": "58d7f4f9",
   "metadata": {},
   "outputs": [
    {
     "name": "stdout",
     "output_type": "stream",
     "text": [
      "\n",
      "Subzero Salaries:\n",
      "Empty DataFrame\n",
      "Columns: [Employee_ID, Monthly_Salary]\n",
      "Index: []\n"
     ]
    }
   ],
   "source": [
    "invalid_salary = df[df['Monthly_Salary'] < 0]\n",
    "print(f\"\\nSubzero Salaries:\\n{invalid_salary[['Employee_ID', 'Monthly_Salary']]}\")\n"
   ]
  },
  {
   "cell_type": "code",
   "execution_count": 11,
   "id": "c9faee8b",
   "metadata": {},
   "outputs": [
    {
     "name": "stdout",
     "output_type": "stream",
     "text": [
      "\n",
      "Employees hired in the future:\n",
      "Empty DataFrame\n",
      "Columns: [Employee_ID, Hire_Date]\n",
      "Index: []\n",
      "\n",
      "Employees hired before 1950:\n",
      "Empty DataFrame\n",
      "Columns: [Employee_ID, Hire_Date]\n",
      "Index: []\n"
     ]
    }
   ],
   "source": [
    "from datetime import datetime\n",
    "today = datetime.today()\n",
    "\n",
    "future_hires = df[df['Hire_Date'] > today]\n",
    "print(f\"\\nEmployees hired in the future:\\n{future_hires[['Employee_ID', 'Hire_Date']]}\")\n",
    "\n",
    "old_hires = df[df['Hire_Date'] < '1950-01-01']\n",
    "print(f\"\\nEmployees hired before 1950:\\n{old_hires[['Employee_ID', 'Hire_Date']]}\")\n"
   ]
  },
  {
   "cell_type": "code",
   "execution_count": 14,
   "id": "8a4380b1",
   "metadata": {},
   "outputs": [
    {
     "name": "stdout",
     "output_type": "stream",
     "text": [
      "\n",
      " (Gender):\n",
      "['Male' 'Female' 'Other']\n",
      "\n",
      "(Education_Level):\n",
      "['High School' 'Bachelor' 'Master' 'PhD']\n",
      "\n",
      " (Department):\n",
      "['IT' 'Finance' 'Customer Support' 'Engineering' 'Marketing' 'HR'\n",
      " 'Operations' 'Sales' 'Legal']\n"
     ]
    }
   ],
   "source": [
    "\n",
    "\n",
    "print(\"\\n (Gender):\")\n",
    "print(df['Gender'].unique())\n",
    "\n",
    "print(\"\\n(Education_Level):\")\n",
    "print(df['Education_Level'].unique())\n",
    "\n",
    "print(\"\\n (Department):\")\n",
    "print(df['Department'].unique())\n"
   ]
  },
  {
   "cell_type": "code",
   "execution_count": 4,
   "id": "f6609b9a",
   "metadata": {},
   "outputs": [
    {
     "name": "stdout",
     "output_type": "stream",
     "text": [
      "Index(['Employee_ID', 'Department', 'Gender', 'Age', 'Job_Title', 'Hire_Date',\n",
      "       'Years_At_Company', 'Education_Level', 'Performance_Score',\n",
      "       'Monthly_Salary', 'Work_Hours_Per_Week', 'Projects_Handled',\n",
      "       'Overtime_Hours', 'Sick_Days', 'Remote_Work_Frequency', 'Team_Size',\n",
      "       'Training_Hours', 'Promotions', 'Employee_Satisfaction_Score',\n",
      "       'Resigned'],\n",
      "      dtype='object')\n"
     ]
    }
   ],
   "source": [
    "\n",
    "print(df.columns)\n",
    "\n",
    "\n"
   ]
  },
  {
   "cell_type": "code",
   "execution_count": 7,
   "id": "c04da52a",
   "metadata": {},
   "outputs": [
    {
     "name": "stdout",
     "output_type": "stream",
     "text": [
      "Education_Level      0\n",
      "Years_At_Company     0\n",
      "Performance_Score    0\n",
      "dtype: int64\n"
     ]
    }
   ],
   "source": [
    "print(df[[\"Education_Level\", \"Years_At_Company\", \"Performance_Score\"]].isnull().sum())"
   ]
  },
  {
   "cell_type": "code",
   "execution_count": 15,
   "id": "341d3c20",
   "metadata": {},
   "outputs": [
    {
     "data": {
      "image/png": "[encoded data removed]",
      "text/plain": [
       "<Figure size 632.25x500 with 1 Axes>"
      ]
     },
     "metadata": {},
     "output_type": "display_data"
    }
   ],
   "source": [
    "import seaborn as sns\n",
    "import matplotlib.pyplot as plt\n",
    "\n",
    "# Boxplot: Education Level vs Performance\n",
    "sns.lmplot(data=df, x=\"Years_At_Company\", y=\"Performance_Score\", hue=\"Education_Level\")\n",
    "\n",
    "plt.title(\"Performance Score by Education Level\")\n",
    "plt.show()\n",
    "\n"
   ]
  },
  {
   "cell_type": "code",
   "execution_count": 11,
   "id": "557ec2ff",
   "metadata": {},
   "outputs": [
    {
     "name": "stdout",
     "output_type": "stream",
     "text": [
      "ANOVA p-value: 0.07123866486159823\n"
     ]
    }
   ],
   "source": [
    "from scipy.stats import f_oneway\n",
    "\n",
    "groups = [group[\"Performance_Score\"].values for name, group in df.groupby(\"Education_Level\")]\n",
    "f_stat, p_value = f_oneway(*groups)\n",
    "\n",
    "print(f\"ANOVA p-value: {p_value}\")\n"
   ]
  },
  {
   "cell_type": "code",
   "execution_count": null,
   "id": "03e3955c",
   "metadata": {},
   "outputs": [],
   "source": [
    "# Transform categorical variables into numerical\n",
    "df_reg = df[[\"Performance_Score\", \"Education_Level\", \"Years_At_Company\", \"Age\", \"Training_Hours\", \"Promotions\"]].copy()\n",
    "\n",
    "#Delete rows with missing values\n",
    "df_reg = df_reg.dropna()\n",
    "\n",
    "\n",
    "df_reg = df_reg.apply(pd.to_numeric, errors='coerce')\n",
    "\n"
   ]
  },
  {
   "cell_type": "code",
   "execution_count": null,
   "id": "20fe27ec",
   "metadata": {},
   "outputs": [],
   "source": [
    "#Check if nan after to_numeric()\n",
    "df_reg = df_reg.dropna()\n"
   ]
  },
  {
   "cell_type": "code",
   "execution_count": 20,
   "id": "63c335d3",
   "metadata": {},
   "outputs": [
    {
     "name": "stdout",
     "output_type": "stream",
     "text": [
      "(0, 6)\n",
      "Empty DataFrame\n",
      "Columns: [Performance_Score, Education_Level, Years_At_Company, Age, Training_Hours, Promotions]\n",
      "Index: []\n"
     ]
    }
   ],
   "source": [
    "print(df_reg.shape)\n",
    "print(df_reg.head())\n"
   ]
  },
  {
   "cell_type": "code",
   "execution_count": 21,
   "id": "24e1ea3a",
   "metadata": {},
   "outputs": [],
   "source": [
    "education_map = {\n",
    "    \"High School\": 1,\n",
    "    \"Associate\": 2,\n",
    "    \"Bachelor\": 3,\n",
    "    \"Master\": 4,\n",
    "    \"PhD\": 5\n",
    "}\n",
    "\n",
    "df[\"Education_Level\"] = df[\"Education_Level\"].map(education_map)\n"
   ]
  },
  {
   "cell_type": "code",
   "execution_count": 22,
   "id": "2c76c95d",
   "metadata": {},
   "outputs": [
    {
     "name": "stdout",
     "output_type": "stream",
     "text": [
      "0\n"
     ]
    }
   ],
   "source": [
    "print(df[\"Education_Level\"].isna().sum())\n"
   ]
  },
  {
   "cell_type": "code",
   "execution_count": 23,
   "id": "e306616e",
   "metadata": {},
   "outputs": [],
   "source": [
    "\n",
    "df_reg = df[[\"Performance_Score\", \"Education_Level\", \"Years_At_Company\", \"Age\", \"Training_Hours\", \"Promotions\"]].copy()\n",
    "df_reg = df_reg.dropna()\n"
   ]
  },
  {
   "cell_type": "code",
   "execution_count": 24,
   "id": "b530942d",
   "metadata": {},
   "outputs": [
    {
     "name": "stdout",
     "output_type": "stream",
     "text": [
      "                            OLS Regression Results                            \n",
      "==============================================================================\n",
      "Dep. Variable:      Performance_Score   R-squared:                       0.000\n",
      "Model:                            OLS   Adj. R-squared:                 -0.000\n",
      "Method:                 Least Squares   F-statistic:                    0.4602\n",
      "Date:                Wed, 07 May 2025   Prob (F-statistic):              0.806\n",
      "Time:                        15:20:17   Log-Likelihood:            -1.7659e+05\n",
      "No. Observations:              100000   AIC:                         3.532e+05\n",
      "Df Residuals:                   99994   BIC:                         3.532e+05\n",
      "Df Model:                           5                                         \n",
      "Covariance Type:            nonrobust                                         \n",
      "====================================================================================\n",
      "                       coef    std err          t      P>|t|      [0.025      0.975]\n",
      "------------------------------------------------------------------------------------\n",
      "const                2.9828      0.023    130.642      0.000       2.938       3.028\n",
      "Education_Level      0.0005      0.004      0.130      0.897      -0.007       0.008\n",
      "Years_At_Company     0.0008      0.002      0.500      0.617      -0.002       0.004\n",
      "Age                  0.0002      0.000      0.500      0.617      -0.001       0.001\n",
      "Training_Hours       0.0001      0.000      0.744      0.457      -0.000       0.000\n",
      "Promotions          -0.0061      0.005     -1.105      0.269      -0.017       0.005\n",
      "==============================================================================\n",
      "Omnibus:                   392520.712   Durbin-Watson:                   2.000\n",
      "Prob(Omnibus):                  0.000   Jarque-Bera (JB):             7047.255\n",
      "Skew:                           0.004   Prob(JB):                         0.00\n",
      "Kurtosis:                       1.700   Cond. No.                         353.\n",
      "==============================================================================\n",
      "\n",
      "Notes:\n",
      "[1] Standard Errors assume that the covariance matrix of the errors is correctly specified.\n"
     ]
    }
   ],
   "source": [
    "import statsmodels.api as sm\n",
    "\n",
    "X = df_reg[[\"Education_Level\", \"Years_At_Company\", \"Age\", \"Training_Hours\", \"Promotions\"]]\n",
    "y = df_reg[\"Performance_Score\"]\n",
    "\n",
    "X = sm.add_constant(X)\n",
    "model = sm.OLS(y, X).fit()\n",
    "\n",
    "print(model.summary())\n"
   ]
  }
 ],
 "metadata": {
  "kernelspec": {
   "display_name": "Python 3",
   "language": "python",
   "name": "python3"
  },
  "language_info": {
   "codemirror_mode": {
    "name": "ipython",
    "version": 3
   },
   "file_extension": ".py",
   "mimetype": "text/x-python",
   "name": "python",
   "nbconvert_exporter": "python",
   "pygments_lexer": "ipython3",
   "version": "3.12.6"
  }
 },
 "nbformat": 4,
 "nbformat_minor": 5
}
