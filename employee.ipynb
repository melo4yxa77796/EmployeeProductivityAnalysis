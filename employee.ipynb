{
 "cells": [
  {
   "cell_type": "code",
   "execution_count": 1,
   "id": "3ed14b5f",
   "metadata": {},
   "outputs": [
    {
     "name": "stdout",
     "output_type": "stream",
     "text": [
      "Missing Values:\n",
      "Employee_ID                    0\n",
      "Department                     0\n",
      "Gender                         0\n",
      "Age                            0\n",
      "Job_Title                      0\n",
      "Hire_Date                      0\n",
      "Years_At_Company               0\n",
      "Education_Level                0\n",
      "Performance_Score              0\n",
      "Monthly_Salary                 0\n",
      "Work_Hours_Per_Week            0\n",
      "Projects_Handled               0\n",
      "Overtime_Hours                 0\n",
      "Sick_Days                      0\n",
      "Remote_Work_Frequency          0\n",
      "Team_Size                      0\n",
      "Training_Hours                 0\n",
      "Promotions                     0\n",
      "Employee_Satisfaction_Score    0\n",
      "Resigned                       0\n",
      "dtype: int64\n",
      "\n",
      "Total Missing Values: 0\n"
     ]
    }
   ],
   "source": [
    "import pandas as pd\n",
    "\n",
    "\n",
    "df = pd.read_csv('Extended_Employee_Performance_and_Productivity_Data.csv')\n",
    "\n",
    "\n",
    "missing_values = df.isnull().sum()\n",
    "\n",
    "\n",
    "total_missing = missing_values.sum()\n",
    "\n",
    "\n",
    "print(\"Missing Values:\")\n",
    "print(missing_values)\n",
    "print(\"\\nTotal Missing Values:\", total_missing)\n",
    "\n"
   ]
  },
  {
   "cell_type": "code",
   "execution_count": 2,
   "id": "e52d0c37-f2a6-4f03-9375-2e0dc5f78376",
   "metadata": {},
   "outputs": [
    {
     "name": "stdout",
     "output_type": "stream",
     "text": [
      "no negative values found in numeric columns.\n"
     ]
    }
   ],
   "source": [
    "numeric_columns = df.select_dtypes(include=['int64', 'float64']).columns\n",
    "\n",
    "negative_values = (df[numeric_columns] < 0).sum()\n",
    "\n",
    "negative_values = negative_values[negative_values > 0]\n",
    "\n",
    "\n",
    "if negative_values.empty:\n",
    "    print(\"no negative values found in numeric columns.\")\n",
    "else:\n",
    "    print(\"Negative Values:\")\n",
    "    # Display the columns with negative values\n",
    "    print(\"Columns with negative values:\")\n",
    "    print(negative_values)\n",
    "\n",
    "\n",
    "\n"
   ]
  },
  {
   "cell_type": "code",
   "execution_count": null,
   "id": "cdf72feb",
   "metadata": {},
   "outputs": [],
   "source": []
  }
 ],
 "metadata": {
  "kernelspec": {
   "display_name": "Python 3",
   "language": "python",
   "name": "python3"
  },
  "language_info": {
   "codemirror_mode": {
    "name": "ipython",
    "version": 3
   },
   "file_extension": ".py",
   "mimetype": "text/x-python",
   "name": "python",
   "nbconvert_exporter": "python",
   "pygments_lexer": "ipython3",
   "version": "3.12.6"
  }
 },
 "nbformat": 4,
 "nbformat_minor": 5
}
