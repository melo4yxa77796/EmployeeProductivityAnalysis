{
 "cells": [
  {
   "cell_type": "code",
   "execution_count": 4,
   "id": "3ed14b5f",
   "metadata": {},
   "outputs": [
    {
     "name": "stdout",
     "output_type": "stream",
     "text": [
      "Missing Values:\n",
      "Employee_ID                    0\n",
      "Department                     0\n",
      "Gender                         0\n",
      "Age                            0\n",
      "Job_Title                      0\n",
      "Hire_Date                      0\n",
      "Years_At_Company               0\n",
      "Education_Level                0\n",
      "Performance_Score              0\n",
      "Monthly_Salary                 0\n",
      "Work_Hours_Per_Week            0\n",
      "Projects_Handled               0\n",
      "Overtime_Hours                 0\n",
      "Sick_Days                      0\n",
      "Remote_Work_Frequency          0\n",
      "Team_Size                      0\n",
      "Training_Hours                 0\n",
      "Promotions                     0\n",
      "Employee_Satisfaction_Score    0\n",
      "Resigned                       0\n",
      "dtype: int64\n",
      "\n",
      "Total Missing Values: 0\n"
     ]
    }
   ],
   "source": [
    "import pandas as pd\n",
    "\n",
    "\n",
    "df = pd.read_csv('Extended_Employee_Performance_and_Productivity_Data.csv')\n",
    "\n",
    "missing_values = df.isnull().sum()\n",
    "\n",
    "total_missing = missing_values.sum()\n",
    "\n",
    "print(\"Missing Values:\")\n",
    "print(missing_values)\n",
    "print(\"\\nTotal Missing Values:\", total_missing)\n",
    "\n"
   ]
  },
  {
   "cell_type": "code",
   "execution_count": 2,
   "id": "e52d0c37-f2a6-4f03-9375-2e0dc5f78376",
   "metadata": {},
   "outputs": [
    {
     "name": "stdout",
     "output_type": "stream",
     "text": [
      "no negative values found in numeric columns.\n"
     ]
    }
   ],
   "source": [
    "numeric_columns = df.select_dtypes(include=['int64', 'float64']).columns\n",
    "\n",
    "negative_values = (df[numeric_columns] < 0).sum()\n",
    "\n",
    "negative_values = negative_values[negative_values > 0]\n",
    "\n",
    "\n",
    "if negative_values.empty:\n",
    "    print(\"no negative values found in numeric columns.\")\n",
    "else:\n",
    "    print(\"Negative Values:\")\n",
    "    # Display the columns with negative values\n",
    "    print(\"Columns with negative values:\")\n",
    "    print(negative_values)\n",
    "\n",
    "\n",
    "\n"
   ]
  },
  {
   "cell_type": "code",
   "execution_count": 12,
   "id": "cdf72feb",
   "metadata": {},
   "outputs": [
    {
     "name": "stdout",
     "output_type": "stream",
     "text": [
      "Number of duplicate rows: 0\n"
     ]
    }
   ],
   "source": [
    "duplicate_count = df.duplicated().sum()\n",
    "\n",
    "print(f\"Number of duplicate rows: {duplicate_count}\")"
   ]
  },
  {
   "cell_type": "code",
   "execution_count": 6,
   "id": "07d11e80",
   "metadata": {},
   "outputs": [
    {
     "name": "stdout",
     "output_type": "stream",
     "text": [
      "Employee_ID                      int64\n",
      "Department                      object\n",
      "Gender                          object\n",
      "Age                              int64\n",
      "Job_Title                       object\n",
      "Hire_Date                       object\n",
      "Years_At_Company                 int64\n",
      "Education_Level                 object\n",
      "Performance_Score                int64\n",
      "Monthly_Salary                 float64\n",
      "Work_Hours_Per_Week              int64\n",
      "Projects_Handled                 int64\n",
      "Overtime_Hours                   int64\n",
      "Sick_Days                        int64\n",
      "Remote_Work_Frequency            int64\n",
      "Team_Size                        int64\n",
      "Training_Hours                   int64\n",
      "Promotions                       int64\n",
      "Employee_Satisfaction_Score    float64\n",
      "Resigned                          bool\n",
      "dtype: object\n"
     ]
    }
   ],
   "source": [
    "print(df.dtypes)"
   ]
  },
  {
   "cell_type": "code",
   "execution_count": 7,
   "id": "9cc03ef8",
   "metadata": {},
   "outputs": [],
   "source": [
    "df['Hire_Date'] = pd.to_datetime(df['Hire_Date'], errors='coerce')\n"
   ]
  },
  {
   "cell_type": "code",

     ]
    }
   ],
   "source": [

   ]
  },
  {
   "cell_type": "code",
   "execution_count": 13,
   "id": "58d7f4f9",
   "metadata": {},
   "outputs": [
    {
     "name": "stdout",
     "output_type": "stream",
     "text": [
      "\n",
      "Subzero Salaries:\n",
      "Empty DataFrame\n",
      "Columns: [Employee_ID, Monthly_Salary]\n",
      "Index: []\n"
     ]
    }
   ],
   "source": [
    "invalid_salary = df[df['Monthly_Salary'] < 0]\n",
    "print(f\"\\nSubzero Salaries:\\n{invalid_salary[['Employee_ID', 'Monthly_Salary']]}\")\n"
   ]
  },
  {
   "cell_type": "code",
   "execution_count": 11,
   "id": "c9faee8b",
   "metadata": {},
   "outputs": [
    {
     "name": "stdout",
     "output_type": "stream",
     "text": [
      "\n",
      "Employees hired in the future:\n",
      "Empty DataFrame\n",
      "Columns: [Employee_ID, Hire_Date]\n",
      "Index: []\n",
      "\n",
      "Employees hired before 1950:\n",
      "Empty DataFrame\n",
      "Columns: [Employee_ID, Hire_Date]\n",
      "Index: []\n"
     ]
    }
   ],
   "source": [
    "from datetime import datetime\n",
    "today = datetime.today()\n",
    "\n",
    "future_hires = df[df['Hire_Date'] > today]\n",
    "print(f\"\\nEmployees hired in the future:\\n{future_hires[['Employee_ID', 'Hire_Date']]}\")\n",
    "\n",
    "old_hires = df[df['Hire_Date'] < '1950-01-01']\n",
    "print(f\"\\nEmployees hired before 1950:\\n{old_hires[['Employee_ID', 'Hire_Date']]}\")\n"
   ]
  },
  {
   "cell_type": "code",
   "execution_count": 14,
   "id": "8a4380b1",
   "metadata": {},
   "outputs": [
    {
     "name": "stdout",
     "output_type": "stream",
     "text": [
      "\n",
      " (Gender):\n",
      "['Male' 'Female' 'Other']\n",
      "\n",
      "(Education_Level):\n",
      "['High School' 'Bachelor' 'Master' 'PhD']\n",
      "\n",
      " (Department):\n",
      "['IT' 'Finance' 'Customer Support' 'Engineering' 'Marketing' 'HR'\n",
      " 'Operations' 'Sales' 'Legal']\n"
     ]
    }
   ],
   "source": [
    "\n",
    "\n",
    "print(\"\\n (Gender):\")\n",
    "print(df['Gender'].unique())\n",
    "\n",
    "print(\"\\n(Education_Level):\")\n",
    "print(df['Education_Level'].unique())\n",
    "\n",
    "print(\"\\n (Department):\")\n",
    "print(df['Department'].unique())\n"
   ]
