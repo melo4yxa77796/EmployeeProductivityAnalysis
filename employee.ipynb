{
 "cells": [
  {
   "cell_type": "code",
   "execution_count": 1,
   "id": "3ed14b5f",
   "metadata": {},
   "outputs": [
    {
     "name": "stdout",
     "output_type": "stream",
     "text": [
      "Missing Values:\n",
      "Employee_ID                    0\n",
      "Department                     0\n",
      "Gender                         0\n",
      "Age                            0\n",
      "Job_Title                      0\n",
      "Hire_Date                      0\n",
      "Years_At_Company               0\n",
      "Education_Level                0\n",
      "Performance_Score              0\n",
      "Monthly_Salary                 0\n",
      "Work_Hours_Per_Week            0\n",
      "Projects_Handled               0\n",
      "Overtime_Hours                 0\n",
      "Sick_Days                      0\n",
      "Remote_Work_Frequency          0\n",
      "Team_Size                      0\n",
      "Training_Hours                 0\n",
      "Promotions                     0\n",
      "Employee_Satisfaction_Score    0\n",
      "Resigned                       0\n",
      "dtype: int64\n",
      "\n",
      "Total Missing Values: 0\n"
     ]
    }
   ],
   "source": [
    "import pandas as pd\n",
    "\n",
    "\n",
    "df = pd.read_csv('Extended_Employee_Performance_and_Productivity_Data.csv')\n",
    "\n",
    "missing_values = df.isnull().sum()\n",
    "\n",
    "total_missing = missing_values.sum()\n",
    "\n",
    "print(\"Missing Values:\")\n",
    "print(missing_values)\n",
    "print(\"\\nTotal Missing Values:\", total_missing)\n",
    "\n"
   ]
  },
  {
   "cell_type": "code",
   "execution_count": 2,
   "id": "e52d0c37-f2a6-4f03-9375-2e0dc5f78376",
   "metadata": {},
   "outputs": [
    {
     "name": "stdout",
     "output_type": "stream",
     "text": [
      "no negative values found in numeric columns.\n"
     ]
    }
   ],
   "source": [
    "numeric_columns = df.select_dtypes(include=['int64', 'float64']).columns\n",
    "\n",
    "negative_values = (df[numeric_columns] < 0).sum()\n",
    "\n",
    "negative_values = negative_values[negative_values > 0]\n",
    "\n",
    "\n",
    "if negative_values.empty:\n",
    "    print(\"no negative values found in numeric columns.\")\n",
    "else:\n",
    "    print(\"Negative Values:\")\n",
    "    # Display the columns with negative values\n",
    "    print(\"Columns with negative values:\")\n",
    "    print(negative_values)\n",
    "\n",
    "\n",
    "\n"
   ]
  },
  {
   "cell_type": "code",
   "execution_count": 5,
   "id": "cdf72feb",
   "metadata": {},
   "outputs": [
    {
     "name": "stdout",
     "output_type": "stream",
     "text": [
      "Number of duplicate rows: 0\n"
     ]
    }
   ],
   "source": [
    "duplicates = df.duplicated().sum()\n",
    "print(f\"Number of duplicate rows: {duplicates}\")"
   ]
  },
  {
   "cell_type": "code",
   "execution_count": 6,
   "id": "07d11e80",
   "metadata": {},
   "outputs": [
    {
     "name": "stdout",
     "output_type": "stream",
     "text": [
      "Employee_ID                      int64\n",
      "Department                      object\n",
      "Gender                          object\n",
      "Age                              int64\n",
      "Job_Title                       object\n",
      "Hire_Date                       object\n",
      "Years_At_Company                 int64\n",
      "Education_Level                 object\n",
      "Performance_Score                int64\n",
      "Monthly_Salary                 float64\n",
      "Work_Hours_Per_Week              int64\n",
      "Projects_Handled                 int64\n",
      "Overtime_Hours                   int64\n",
      "Sick_Days                        int64\n",
      "Remote_Work_Frequency            int64\n",
      "Team_Size                        int64\n",
      "Training_Hours                   int64\n",
      "Promotions                       int64\n",
      "Employee_Satisfaction_Score    float64\n",
      "Resigned                          bool\n",
      "dtype: object\n"
     ]
    }
   ],
   "source": [
    "print(df.dtypes)"
   ]
  },
  {
   "cell_type": "code",
   "execution_count": 7,
   "id": "9cc03ef8",
   "metadata": {},
   "outputs": [],
   "source": [
    "df['Hire_Date'] = pd.to_datetime(df['Hire_Date'], errors='coerce')\n"
   ]
  },
  {
   "cell_type": "code",
   "execution_count": 2,
   "id": "6e84d53f",
   "metadata": {},
   "outputs": [
    {
     "name": "stdout",
     "output_type": "stream",
     "text": [
      "Mininum age: 22\n",
      "Maximum age: 60\n"
     ]
    }
   ],
   "source": [
    "df\n",
    "\n",
    "min_age = df['Age'].min ()\n",
    "max_age = df['Age'].max ()\n",
    "\n",
    "print(f\"Mininum age: {min_age}\")\n",
    "print(f\"Maximum age: {max_age}\")\n"
   ]
  },
  {
   "cell_type": "code",
   "execution_count": 10,
   "id": "58d7f4f9",
   "metadata": {},
   "outputs": [
    {
     "name": "stdout",
     "output_type": "stream",
     "text": [
      "\n",
      "Subzero Salaries:\n",
      "Empty DataFrame\n",
      "Columns: [Employee_ID, Monthly_Salary]\n",
      "Index: []\n"
     ]
    }
   ],
   "source": [
    "invalid_salary = df[df['Monthly_Salary'] < 0]\n",
    "print(f\"\\nSubzero Salaries:\\n{invalid_salary[['Employee_ID', 'Monthly_Salary']]}\")\n"
   ]
  },
  {
   "cell_type": "code",
   "execution_count": 11,
   "id": "c9faee8b",
   "metadata": {},
   "outputs": [
    {
     "name": "stdout",
     "output_type": "stream",
     "text": [
      "\n",
      "Employees hired in the future:\n",
      "Empty DataFrame\n",
      "Columns: [Employee_ID, Hire_Date]\n",
      "Index: []\n",
      "\n",
      "Employees hired before 1950:\n",
      "Empty DataFrame\n",
      "Columns: [Employee_ID, Hire_Date]\n",
      "Index: []\n"
     ]
    }
   ],
   "source": [
    "from datetime import datetime\n",
    "today = datetime.today()\n",
    "\n",
    "future_hires = df[df['Hire_Date'] > today]\n",
    "print(f\"\\nEmployees hired in the future:\\n{future_hires[['Employee_ID', 'Hire_Date']]}\")\n",
    "\n",
    "old_hires = df[df['Hire_Date'] < '1950-01-01']\n",
    "print(f\"\\nEmployees hired before 1950:\\n{old_hires[['Employee_ID', 'Hire_Date']]}\")\n"
   ]
  },
  {
   "cell_type": "code",
   "execution_count": 12,
   "id": "754f2b38",
   "metadata": {},
   "outputs": [
    {
     "name": "stdout",
     "output_type": "stream",
     "text": [
      "\n",
      "Employees hired too young:\n",
      "       Employee_ID  Age  Years_At_Company  Age_At_Hire\n",
      "19              20   23                 9           14\n",
      "171            172   22                 9           13\n",
      "293            294   22                 8           14\n",
      "298            299   22                 7           15\n",
      "318            319   22                 8           14\n",
      "...            ...  ...               ...          ...\n",
      "99822        99823   22                 7           15\n",
      "99875        99876   22                 7           15\n",
      "99912        99913   22                 9           13\n",
      "99927        99928   23                 9           14\n",
      "99998        99999   22                 9           13\n",
      "\n",
      "[1503 rows x 4 columns]\n"
     ]
    }
   ],
   "source": [
    "df['Age_At_Hire'] = df['Age'] - df['Years_At_Company']\n",
    "too_young_hires = df[df['Age_At_Hire'] < 16]\n",
    "print(f\"\\nEmployees hired too young:\\n{too_young_hires[['Employee_ID', 'Age', 'Years_At_Company', 'Age_At_Hire']]}\")\n"
   ]
  },
  {
   "cell_type": "code",
   "execution_count": 14,
   "id": "8a4380b1",
   "metadata": {},
   "outputs": [
    {
     "name": "stdout",
     "output_type": "stream",
     "text": [
      "\n",
      " (Gender):\n",
      "['Male' 'Female' 'Other']\n",
      "\n",
      "(Education_Level):\n",
      "['High School' 'Bachelor' 'Master' 'PhD']\n",
      "\n",
      " (Department):\n",
      "['IT' 'Finance' 'Customer Support' 'Engineering' 'Marketing' 'HR'\n",
      " 'Operations' 'Sales' 'Legal']\n"
     ]
    }
   ],
   "source": [
    "\n",
    "\n",
    "print(\"\\n (Gender):\")\n",
    "print(df['Gender'].unique())\n",
    "\n",
    "print(\"\\n(Education_Level):\")\n",
    "print(df['Education_Level'].unique())\n",
    "\n",
    "print(\"\\n (Department):\")\n",
    "print(df['Department'].unique())\n"
   ]
  },
  {
   "cell_type": "code",
   "execution_count": 17,
   "id": "fd121e62",
   "metadata": {},
   "outputs": [
    {
     "name": "stdout",
     "output_type": "stream",
     "text": [
      "\n",
      "Proportion of employees who resigned: 10.01%\n"
     ]
    }
   ],
   "source": [
    "import matplotlib.pyplot as plt\n",
    "import seaborn as sns\n",
    "\n",
    "resigned_rate = df['Resigned'].mean() * 100\n",
    "print(f\"\\nProportion of employees who resigned: {resigned_rate:.2f}%\")"
   ]
  },
  {
   "cell_type": "code",
   "execution_count": 18,
   "id": "fca07a8a",
   "metadata": {},
   "outputs": [
    {
     "name": "stdout",
     "output_type": "stream",
     "text": [
      "\n",
      "Proportion of employees who resigned by gender:\n",
      "Gender\n",
      "Female    10.033124\n",
      "Male      10.008120\n",
      "Other      9.753024\n",
      "Name: Resigned, dtype: float64\n"
     ]
    }
   ],
   "source": [
    "resigned_by_gender = df.groupby('Gender')['Resigned'].mean() * 100\n",
    "print(\"\\nProportion of employees who resigned by gender:\")\n",
    "print(resigned_by_gender)"
   ]
  },
  {
   "cell_type": "code",
   "execution_count": 19,
   "id": "cb32e33e",
   "metadata": {},
   "outputs": [
    {
     "name": "stdout",
     "output_type": "stream",
     "text": [
      "\n",
      "Proportion of employees who resigned by department:\n",
      "Department\n",
      "Finance             10.535714\n",
      "HR                  10.264599\n",
      "Legal               10.217665\n",
      "Marketing           10.030314\n",
      "Operations          10.025937\n",
      "Sales                9.926272\n",
      "Customer Support     9.877654\n",
      "Engineering          9.647682\n",
      "IT                   9.558890\n",
      "Name: Resigned, dtype: float64\n"
     ]
    }
   ],
   "source": [
    "resigned_by_department = df.groupby('Department')['Resigned'].mean().sort_values(ascending=False) * 100\n",
    "print(\"\\nProportion of employees who resigned by department:\")\n",
    "print(resigned_by_department)"
   ]
  },
  {
   "cell_type": "code",
   "execution_count": 20,
   "id": "4a7bafde",
   "metadata": {},
   "outputs": [],
   "source": [
    "features_to_compare = ['Age', 'Monthly_Salary', 'Projects_Handled', 'Overtime_Hours', 'Employee_Satisfaction_Score', 'Work_Hours_Per_Week']"
   ]
  },
  {
   "cell_type": "code",
   "execution_count": 21,
   "id": "f16a3997",
   "metadata": {},
   "outputs": [
    {
     "name": "stdout",
     "output_type": "stream",
     "text": [
      "\n",
      "Average values ​​of characteristics for those who quit and those who stayed::\n",
      "                Age  Monthly_Salary  Projects_Handled  Overtime_Hours  \\\n",
      "Resigned                                                                \n",
      "False     41.016213     6403.908768         24.439438       14.508045   \n",
      "True      41.148052     6396.938062         24.356843       14.576823   \n",
      "\n",
      "          Employee_Satisfaction_Score  Work_Hours_Per_Week  \n",
      "Resigned                                                    \n",
      "False                        3.000174            44.956517  \n",
      "True                         2.989325            44.960839  \n"
     ]
    }
   ],
   "source": [
    "mean_comparison = df.groupby('Resigned')[features_to_compare].mean()\n",
    "print(\"\\nAverage values ​​of characteristics for those who quit and those who stayed::\")\n",
    "print(mean_comparison)"
   ]
  },
  {
   "cell_type": "code",
   "execution_count": 4,
   "id": "f9193b86",
   "metadata": {},
   "outputs": [
    {
     "name": "stdout",
     "output_type": "stream",
     "text": [
      "Index(['Employee_ID', 'Department', 'Gender', 'Age', 'Job_Title', 'Hire_Date',\n",
      "       'Years_At_Company', 'Education_Level', 'Performance_Score',\n",
      "       'Monthly_Salary', 'Work_Hours_Per_Week', 'Projects_Handled',\n",
      "       'Overtime_Hours', 'Sick_Days', 'Remote_Work_Frequency', 'Team_Size',\n",
      "       'Training_Hours', 'Promotions', 'Employee_Satisfaction_Score',\n",
      "       'Resigned'],\n",
      "      dtype='object')\n",
      "maximo: 9000.0\n"
     ]
    }
   ],
   "source": [
    "print(df.columns)\n",
    "max_salary = df['Monthly_Salary'].max()\n",
    "print(\"maximo:\", max_salary)"
   ]
  }
 ],
 "metadata": {
  "kernelspec": {
   "display_name": "Python 3",
   "language": "python",
   "name": "python3"
  },
  "language_info": {
   "codemirror_mode": {
    "name": "ipython",
    "version": 3
   },
   "file_extension": ".py",
   "mimetype": "text/x-python",
   "name": "python",
   "nbconvert_exporter": "python",
   "pygments_lexer": "ipython3",
   "version": "3.11.9"
  }
 },
 "nbformat": 4,
 "nbformat_minor": 5
}
